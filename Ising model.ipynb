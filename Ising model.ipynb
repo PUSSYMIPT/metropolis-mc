{
 "cells": [
  {
   "cell_type": "code",
   "execution_count": 62,
   "metadata": {
    "ExecuteTime": {
     "end_time": "2020-01-21T12:54:10.603749Z",
     "start_time": "2020-01-21T12:54:10.571833Z"
    }
   },
   "outputs": [
    {
     "name": "stdout",
     "output_type": "stream",
     "text": [
      "Populating the interactive namespace from numpy and matplotlib\n"
     ]
    },
    {
     "name": "stderr",
     "output_type": "stream",
     "text": [
      "/Users/nik/anaconda3/lib/python3.7/site-packages/IPython/core/magics/pylab.py:160: UserWarning:\n",
      "\n",
      "pylab import has clobbered these variables: ['size', 'f']\n",
      "`%matplotlib` prevents importing * from pylab and numpy\n",
      "\n"
     ]
    }
   ],
   "source": [
    "import numpy as np\n",
    "import numba\n",
    "from plotly import graph_objects as go\n",
    "from tqdm.notebook import tqdm\n",
    "from matplotlib import pyplot as plt\n",
    "import seaborn as sns\n",
    "sns.set(style='darkgrid')\n",
    "%pylab inline"
   ]
  },
  {
   "cell_type": "code",
   "execution_count": 31,
   "metadata": {
    "ExecuteTime": {
     "end_time": "2020-01-21T11:34:59.780925Z",
     "start_time": "2020-01-21T11:34:59.762647Z"
    }
   },
   "outputs": [],
   "source": [
    "@numba.njit\n",
    "def mcmove(config, beta=0.4):\n",
    "    '''Monte Carlo move using Metropolis algorithm '''\n",
    "    N = len(config)\n",
    "    for i in range(N):\n",
    "        for j in range(N):\n",
    "                a = np.random.randint(0, N)\n",
    "                b = np.random.randint(0, N)\n",
    "                s =  config[a, b]\n",
    "                nb = config[(a+1)%N,b] + config[a,(b+1)%N] + config[(a-1)%N,b] + config[a,(b-1)%N]\n",
    "                cost = 2*s*nb\n",
    "                if cost < 0:\n",
    "                    s *= -1\n",
    "                elif rand() < np.exp(-cost*beta):\n",
    "                    s *= -1\n",
    "                config[a, b] = s\n",
    "    return config\n",
    "\n",
    "\n",
    "@numba.njit\n",
    "def _ising_update(field, n, m, beta):\n",
    "    total = 0\n",
    "    N, M = field.shape\n",
    "    for i in range(n-1, n+2):\n",
    "        for j in range(m-1, m+2):\n",
    "            if i == n and j == m:\n",
    "                continue\n",
    "            total += field[i % N, j % M]\n",
    "    dE = 2 * field[n, m] * total\n",
    "    if dE <= 0:\n",
    "        field[n, m] *= -1\n",
    "    elif np.exp(-dE * beta) > np.random.rand():\n",
    "        field[n, m] *= -1"
   ]
  },
  {
   "cell_type": "code",
   "execution_count": 54,
   "metadata": {
    "ExecuteTime": {
     "end_time": "2020-01-21T12:13:39.156534Z",
     "start_time": "2020-01-21T12:12:19.720520Z"
    }
   },
   "outputs": [
    {
     "name": "stdout",
     "output_type": "stream",
     "text": [
      "sampling...\n"
     ]
    },
    {
     "data": {
      "application/vnd.jupyter.widget-view+json": {
       "model_id": "384b4dd4d4f14594aa64804c38990d06",
       "version_major": 2,
       "version_minor": 0
      },
      "text/plain": [
       "HBox(children=(IntProgress(value=0, max=1000), HTML(value='')))"
      ]
     },
     "metadata": {},
     "output_type": "display_data"
    },
    {
     "name": "stdout",
     "output_type": "stream",
     "text": [
      "equilibrium is reached\n",
      "\n"
     ]
    }
   ],
   "source": [
    "\n",
    "def random_spin_field(N, M):\n",
    "    return np.random.choice([-1, 1], size=(N, M))\n",
    "\n",
    "def metropolis_mc(equilibrium_steps=0, sample_size=1000,\n",
    "                  beta=0.4, size=(700, 700), verbose=False):\n",
    "    if verbose:\n",
    "        print('sampling...')\n",
    "    images = [random_spin_field(size[0], size[1])]\n",
    "    n_steps=equilibrium_steps + sample_size\n",
    "    for i in tqdm(range(n_steps)):\n",
    "        images.append(mcmove(images[-1].copy(), beta=beta))\n",
    "        if i == equilibrium_steps and verbose:\n",
    "            print('equilibrium is reached')\n",
    "    return images[equilibrium_steps:]\n",
    "images = metropolis_mc(beta=2, verbose=True)"
   ]
  },
  {
   "cell_type": "code",
   "execution_count": 15,
   "metadata": {
    "ExecuteTime": {
     "end_time": "2020-01-21T10:44:03.214581Z",
     "start_time": "2020-01-21T10:44:03.209043Z"
    }
   },
   "outputs": [],
   "source": [
    "from PIL import Image"
   ]
  },
  {
   "cell_type": "code",
   "execution_count": 16,
   "metadata": {
    "ExecuteTime": {
     "end_time": "2020-01-21T10:44:03.763506Z",
     "start_time": "2020-01-21T10:44:03.756960Z"
    }
   },
   "outputs": [],
   "source": [
    "from ipywidgets import interact\n",
    "\n",
    "def display_ising_sequence(images):\n",
    "    def _show(frame=(0, len(images) - 1)):\n",
    "        return display_spin_field(images[frame])\n",
    "    return interact(_show)"
   ]
  },
  {
   "cell_type": "code",
   "execution_count": 55,
   "metadata": {
    "ExecuteTime": {
     "end_time": "2020-01-21T12:13:40.014103Z",
     "start_time": "2020-01-21T12:13:39.909588Z"
    }
   },
   "outputs": [
    {
     "data": {
      "application/vnd.jupyter.widget-view+json": {
       "model_id": "4f8031da48e54302b44ff991151172e9",
       "version_major": 2,
       "version_minor": 0
      },
      "text/plain": [
       "interactive(children=(IntSlider(value=500, description='frame', max=1000), Output()), _dom_classes=('widget-in…"
      ]
     },
     "metadata": {},
     "output_type": "display_data"
    },
    {
     "data": {
      "text/plain": [
       "<function __main__.display_ising_sequence.<locals>._show(frame=(0, 1000))>"
      ]
     },
     "execution_count": 55,
     "metadata": {},
     "output_type": "execute_result"
    }
   ],
   "source": [
    "def display_spin_field(field):\n",
    "    return Image.fromarray(np.uint8((field + 1) * 0.5 * 255))\n",
    "\n",
    "display_ising_sequence(images)\n"
   ]
  },
  {
   "cell_type": "code",
   "execution_count": 34,
   "metadata": {
    "ExecuteTime": {
     "end_time": "2020-01-21T11:36:31.299401Z",
     "start_time": "2020-01-21T11:36:31.281945Z"
    }
   },
   "outputs": [],
   "source": [
    "@numba.njit\n",
    "def calcEnergy(config):\n",
    "    '''Energy of a given configuration'''\n",
    "    energy = 0\n",
    "    N = len(config)\n",
    "    for i in range(len(config)):\n",
    "        for j in range(len(config)):\n",
    "            S = config[i,j]\n",
    "            nb = config[(i+1)%N, j] + config[i,(j+1)%N] + config[(i-1)%N, j]\\\n",
    "                 + config[i,(j-1)%N]\n",
    "            energy += -nb*S\n",
    "    return energy/4.\n",
    "\n",
    "@numba.njit\n",
    "def calcMag(config):\n",
    "    '''Magnetization of a given configuration'''\n",
    "    mag = np.sum(config)\n",
    "    return mag\n"
   ]
  },
  {
   "cell_type": "code",
   "execution_count": 41,
   "metadata": {
    "ExecuteTime": {
     "end_time": "2020-01-21T11:53:40.624855Z",
     "start_time": "2020-01-21T11:50:12.602117Z"
    },
    "scrolled": true
   },
   "outputs": [
    {
     "data": {
      "application/vnd.jupyter.widget-view+json": {
       "model_id": "d1ac2e6ff89e4b2a843369e8cf6bbf4e",
       "version_major": 2,
       "version_minor": 0
      },
      "text/plain": [
       "HBox(children=(IntProgress(value=0, max=40), HTML(value='')))"
      ]
     },
     "metadata": {},
     "output_type": "display_data"
    },
    {
     "data": {
      "application/vnd.jupyter.widget-view+json": {
       "model_id": "a7589614c00a445cbaf84dcd5dba5277",
       "version_major": 2,
       "version_minor": 0
      },
      "text/plain": [
       "HBox(children=(IntProgress(value=0, max=1000), HTML(value='')))"
      ]
     },
     "metadata": {},
     "output_type": "display_data"
    },
    {
     "name": "stdout",
     "output_type": "stream",
     "text": [
      "\n"
     ]
    },
    {
     "data": {
      "application/vnd.jupyter.widget-view+json": {
       "model_id": "58030769a9f4443f95637d0707b51423",
       "version_major": 2,
       "version_minor": 0
      },
      "text/plain": [
       "HBox(children=(IntProgress(value=0, max=1000), HTML(value='')))"
      ]
     },
     "metadata": {},
     "output_type": "display_data"
    },
    {
     "name": "stdout",
     "output_type": "stream",
     "text": [
      "\n"
     ]
    },
    {
     "data": {
      "application/vnd.jupyter.widget-view+json": {
       "model_id": "205bb3e53a2e437d976c2f94a31c7508",
       "version_major": 2,
       "version_minor": 0
      },
      "text/plain": [
       "HBox(children=(IntProgress(value=0, max=1000), HTML(value='')))"
      ]
     },
     "metadata": {},
     "output_type": "display_data"
    },
    {
     "name": "stdout",
     "output_type": "stream",
     "text": [
      "\n"
     ]
    },
    {
     "data": {
      "application/vnd.jupyter.widget-view+json": {
       "model_id": "208fc2b4814f47278731521818ad153e",
       "version_major": 2,
       "version_minor": 0
      },
      "text/plain": [
       "HBox(children=(IntProgress(value=0, max=1000), HTML(value='')))"
      ]
     },
     "metadata": {},
     "output_type": "display_data"
    },
    {
     "name": "stdout",
     "output_type": "stream",
     "text": [
      "\n"
     ]
    },
    {
     "data": {
      "application/vnd.jupyter.widget-view+json": {
       "model_id": "2d893a608e6f4814ac7a6917bedb821b",
       "version_major": 2,
       "version_minor": 0
      },
      "text/plain": [
       "HBox(children=(IntProgress(value=0, max=1000), HTML(value='')))"
      ]
     },
     "metadata": {},
     "output_type": "display_data"
    },
    {
     "name": "stdout",
     "output_type": "stream",
     "text": [
      "\n"
     ]
    },
    {
     "data": {
      "application/vnd.jupyter.widget-view+json": {
       "model_id": "f66cbdc2a1404245b6b5c61212200c26",
       "version_major": 2,
       "version_minor": 0
      },
      "text/plain": [
       "HBox(children=(IntProgress(value=0, max=1000), HTML(value='')))"
      ]
     },
     "metadata": {},
     "output_type": "display_data"
    },
    {
     "name": "stdout",
     "output_type": "stream",
     "text": [
      "\n"
     ]
    },
    {
     "data": {
      "application/vnd.jupyter.widget-view+json": {
       "model_id": "914d66c8af004d6f976236658870f381",
       "version_major": 2,
       "version_minor": 0
      },
      "text/plain": [
       "HBox(children=(IntProgress(value=0, max=1000), HTML(value='')))"
      ]
     },
     "metadata": {},
     "output_type": "display_data"
    },
    {
     "name": "stdout",
     "output_type": "stream",
     "text": [
      "\n"
     ]
    },
    {
     "data": {
      "application/vnd.jupyter.widget-view+json": {
       "model_id": "7246551cd0254673a14a720890c97f3a",
       "version_major": 2,
       "version_minor": 0
      },
      "text/plain": [
       "HBox(children=(IntProgress(value=0, max=1000), HTML(value='')))"
      ]
     },
     "metadata": {},
     "output_type": "display_data"
    },
    {
     "name": "stdout",
     "output_type": "stream",
     "text": [
      "\n"
     ]
    },
    {
     "data": {
      "application/vnd.jupyter.widget-view+json": {
       "model_id": "60e3aa650d224ff39a4ef9670626e38e",
       "version_major": 2,
       "version_minor": 0
      },
      "text/plain": [
       "HBox(children=(IntProgress(value=0, max=1000), HTML(value='')))"
      ]
     },
     "metadata": {},
     "output_type": "display_data"
    },
    {
     "name": "stdout",
     "output_type": "stream",
     "text": [
      "\n"
     ]
    },
    {
     "data": {
      "application/vnd.jupyter.widget-view+json": {
       "model_id": "6a0b2d96daae4a7c98d6e9b944b557fc",
       "version_major": 2,
       "version_minor": 0
      },
      "text/plain": [
       "HBox(children=(IntProgress(value=0, max=1000), HTML(value='')))"
      ]
     },
     "metadata": {},
     "output_type": "display_data"
    },
    {
     "name": "stdout",
     "output_type": "stream",
     "text": [
      "\n"
     ]
    },
    {
     "data": {
      "application/vnd.jupyter.widget-view+json": {
       "model_id": "1d1574640931449c9ac663e1f83b09ea",
       "version_major": 2,
       "version_minor": 0
      },
      "text/plain": [
       "HBox(children=(IntProgress(value=0, max=1000), HTML(value='')))"
      ]
     },
     "metadata": {},
     "output_type": "display_data"
    },
    {
     "name": "stdout",
     "output_type": "stream",
     "text": [
      "\n"
     ]
    },
    {
     "data": {
      "application/vnd.jupyter.widget-view+json": {
       "model_id": "232340637cee4969b4672128e1e2d182",
       "version_major": 2,
       "version_minor": 0
      },
      "text/plain": [
       "HBox(children=(IntProgress(value=0, max=1000), HTML(value='')))"
      ]
     },
     "metadata": {},
     "output_type": "display_data"
    },
    {
     "name": "stdout",
     "output_type": "stream",
     "text": [
      "\n"
     ]
    },
    {
     "data": {
      "application/vnd.jupyter.widget-view+json": {
       "model_id": "1f683d5209af4b88916bc1b3d855d692",
       "version_major": 2,
       "version_minor": 0
      },
      "text/plain": [
       "HBox(children=(IntProgress(value=0, max=1000), HTML(value='')))"
      ]
     },
     "metadata": {},
     "output_type": "display_data"
    },
    {
     "name": "stdout",
     "output_type": "stream",
     "text": [
      "\n"
     ]
    },
    {
     "data": {
      "application/vnd.jupyter.widget-view+json": {
       "model_id": "7fb6b371b1384ec39ee699a6dfd5f8b8",
       "version_major": 2,
       "version_minor": 0
      },
      "text/plain": [
       "HBox(children=(IntProgress(value=0, max=1000), HTML(value='')))"
      ]
     },
     "metadata": {},
     "output_type": "display_data"
    },
    {
     "name": "stdout",
     "output_type": "stream",
     "text": [
      "\n"
     ]
    },
    {
     "data": {
      "application/vnd.jupyter.widget-view+json": {
       "model_id": "e646dc1afb044f348844b1be33e1f3ec",
       "version_major": 2,
       "version_minor": 0
      },
      "text/plain": [
       "HBox(children=(IntProgress(value=0, max=1000), HTML(value='')))"
      ]
     },
     "metadata": {},
     "output_type": "display_data"
    },
    {
     "name": "stdout",
     "output_type": "stream",
     "text": [
      "\n"
     ]
    },
    {
     "data": {
      "application/vnd.jupyter.widget-view+json": {
       "model_id": "eddd33ef2d43491299ffa1a3301618e6",
       "version_major": 2,
       "version_minor": 0
      },
      "text/plain": [
       "HBox(children=(IntProgress(value=0, max=1000), HTML(value='')))"
      ]
     },
     "metadata": {},
     "output_type": "display_data"
    },
    {
     "name": "stdout",
     "output_type": "stream",
     "text": [
      "\n"
     ]
    },
    {
     "data": {
      "application/vnd.jupyter.widget-view+json": {
       "model_id": "efe788f5a91043e9822412a9cd7d1de8",
       "version_major": 2,
       "version_minor": 0
      },
      "text/plain": [
       "HBox(children=(IntProgress(value=0, max=1000), HTML(value='')))"
      ]
     },
     "metadata": {},
     "output_type": "display_data"
    },
    {
     "name": "stdout",
     "output_type": "stream",
     "text": [
      "\n"
     ]
    },
    {
     "data": {
      "application/vnd.jupyter.widget-view+json": {
       "model_id": "89565d2937b2425aa792010fa07b10c9",
       "version_major": 2,
       "version_minor": 0
      },
      "text/plain": [
       "HBox(children=(IntProgress(value=0, max=1000), HTML(value='')))"
      ]
     },
     "metadata": {},
     "output_type": "display_data"
    },
    {
     "name": "stdout",
     "output_type": "stream",
     "text": [
      "\n"
     ]
    },
    {
     "data": {
      "application/vnd.jupyter.widget-view+json": {
       "model_id": "1cbd1fc1dd6e46849f099c84cb20e0de",
       "version_major": 2,
       "version_minor": 0
      },
      "text/plain": [
       "HBox(children=(IntProgress(value=0, max=1000), HTML(value='')))"
      ]
     },
     "metadata": {},
     "output_type": "display_data"
    },
    {
     "name": "stdout",
     "output_type": "stream",
     "text": [
      "\n"
     ]
    },
    {
     "data": {
      "application/vnd.jupyter.widget-view+json": {
       "model_id": "129e9f20ec0f4095a06ebd42f069ec17",
       "version_major": 2,
       "version_minor": 0
      },
      "text/plain": [
       "HBox(children=(IntProgress(value=0, max=1000), HTML(value='')))"
      ]
     },
     "metadata": {},
     "output_type": "display_data"
    },
    {
     "name": "stdout",
     "output_type": "stream",
     "text": [
      "\n"
     ]
    },
    {
     "data": {
      "application/vnd.jupyter.widget-view+json": {
       "model_id": "63521fe6a4e4471f9354bda14850a7e6",
       "version_major": 2,
       "version_minor": 0
      },
      "text/plain": [
       "HBox(children=(IntProgress(value=0, max=1000), HTML(value='')))"
      ]
     },
     "metadata": {},
     "output_type": "display_data"
    },
    {
     "name": "stdout",
     "output_type": "stream",
     "text": [
      "\n"
     ]
    },
    {
     "data": {
      "application/vnd.jupyter.widget-view+json": {
       "model_id": "ba89223f2f9447c8a742bc8c6ad2b671",
       "version_major": 2,
       "version_minor": 0
      },
      "text/plain": [
       "HBox(children=(IntProgress(value=0, max=1000), HTML(value='')))"
      ]
     },
     "metadata": {},
     "output_type": "display_data"
    },
    {
     "name": "stdout",
     "output_type": "stream",
     "text": [
      "\n"
     ]
    },
    {
     "data": {
      "application/vnd.jupyter.widget-view+json": {
       "model_id": "2ac0a4a5e3cd4f369047e814efd71d03",
       "version_major": 2,
       "version_minor": 0
      },
      "text/plain": [
       "HBox(children=(IntProgress(value=0, max=1000), HTML(value='')))"
      ]
     },
     "metadata": {},
     "output_type": "display_data"
    },
    {
     "name": "stdout",
     "output_type": "stream",
     "text": [
      "\n"
     ]
    },
    {
     "data": {
      "application/vnd.jupyter.widget-view+json": {
       "model_id": "bb2a6b7f8f0a41f198bea8f2952d1a8f",
       "version_major": 2,
       "version_minor": 0
      },
      "text/plain": [
       "HBox(children=(IntProgress(value=0, max=1000), HTML(value='')))"
      ]
     },
     "metadata": {},
     "output_type": "display_data"
    },
    {
     "name": "stdout",
     "output_type": "stream",
     "text": [
      "\n"
     ]
    },
    {
     "data": {
      "application/vnd.jupyter.widget-view+json": {
       "model_id": "062bb24841d145bca9cd9c2029517da7",
       "version_major": 2,
       "version_minor": 0
      },
      "text/plain": [
       "HBox(children=(IntProgress(value=0, max=1000), HTML(value='')))"
      ]
     },
     "metadata": {},
     "output_type": "display_data"
    },
    {
     "name": "stdout",
     "output_type": "stream",
     "text": [
      "\n"
     ]
    },
    {
     "data": {
      "application/vnd.jupyter.widget-view+json": {
       "model_id": "3b60cb0d7a574970b6647ff39e2f8c49",
       "version_major": 2,
       "version_minor": 0
      },
      "text/plain": [
       "HBox(children=(IntProgress(value=0, max=1000), HTML(value='')))"
      ]
     },
     "metadata": {},
     "output_type": "display_data"
    },
    {
     "name": "stdout",
     "output_type": "stream",
     "text": [
      "\n"
     ]
    },
    {
     "data": {
      "application/vnd.jupyter.widget-view+json": {
       "model_id": "cf1673f2246d489e83124d85a10a56aa",
       "version_major": 2,
       "version_minor": 0
      },
      "text/plain": [
       "HBox(children=(IntProgress(value=0, max=1000), HTML(value='')))"
      ]
     },
     "metadata": {},
     "output_type": "display_data"
    },
    {
     "name": "stdout",
     "output_type": "stream",
     "text": [
      "\n"
     ]
    },
    {
     "data": {
      "application/vnd.jupyter.widget-view+json": {
       "model_id": "c81b1f240da64269b176a4aed6775cc2",
       "version_major": 2,
       "version_minor": 0
      },
      "text/plain": [
       "HBox(children=(IntProgress(value=0, max=1000), HTML(value='')))"
      ]
     },
     "metadata": {},
     "output_type": "display_data"
    },
    {
     "name": "stdout",
     "output_type": "stream",
     "text": [
      "\n"
     ]
    },
    {
     "data": {
      "application/vnd.jupyter.widget-view+json": {
       "model_id": "fa0541e62b3f4f728b59da64fc9eee71",
       "version_major": 2,
       "version_minor": 0
      },
      "text/plain": [
       "HBox(children=(IntProgress(value=0, max=1000), HTML(value='')))"
      ]
     },
     "metadata": {},
     "output_type": "display_data"
    },
    {
     "name": "stdout",
     "output_type": "stream",
     "text": [
      "\n"
     ]
    },
    {
     "data": {
      "application/vnd.jupyter.widget-view+json": {
       "model_id": "ece4756118fb4028a6099c8bb9d71f14",
       "version_major": 2,
       "version_minor": 0
      },
      "text/plain": [
       "HBox(children=(IntProgress(value=0, max=1000), HTML(value='')))"
      ]
     },
     "metadata": {},
     "output_type": "display_data"
    },
    {
     "name": "stdout",
     "output_type": "stream",
     "text": [
      "\n"
     ]
    },
    {
     "data": {
      "application/vnd.jupyter.widget-view+json": {
       "model_id": "fc7541b8e0f54857abc62ca15f92ffce",
       "version_major": 2,
       "version_minor": 0
      },
      "text/plain": [
       "HBox(children=(IntProgress(value=0, max=1000), HTML(value='')))"
      ]
     },
     "metadata": {},
     "output_type": "display_data"
    },
    {
     "name": "stdout",
     "output_type": "stream",
     "text": [
      "\n"
     ]
    },
    {
     "data": {
      "application/vnd.jupyter.widget-view+json": {
       "model_id": "8b896a3ff77047799d194cc87871ec43",
       "version_major": 2,
       "version_minor": 0
      },
      "text/plain": [
       "HBox(children=(IntProgress(value=0, max=1000), HTML(value='')))"
      ]
     },
     "metadata": {},
     "output_type": "display_data"
    },
    {
     "name": "stdout",
     "output_type": "stream",
     "text": [
      "\n"
     ]
    },
    {
     "data": {
      "application/vnd.jupyter.widget-view+json": {
       "model_id": "1dd58c7db96a4a63b96dce7f0e42f901",
       "version_major": 2,
       "version_minor": 0
      },
      "text/plain": [
       "HBox(children=(IntProgress(value=0, max=1000), HTML(value='')))"
      ]
     },
     "metadata": {},
     "output_type": "display_data"
    },
    {
     "name": "stdout",
     "output_type": "stream",
     "text": [
      "\n"
     ]
    },
    {
     "data": {
      "application/vnd.jupyter.widget-view+json": {
       "model_id": "25dcf4b40da14e4985e9b5d7f472fb8a",
       "version_major": 2,
       "version_minor": 0
      },
      "text/plain": [
       "HBox(children=(IntProgress(value=0, max=1000), HTML(value='')))"
      ]
     },
     "metadata": {},
     "output_type": "display_data"
    },
    {
     "name": "stdout",
     "output_type": "stream",
     "text": [
      "\n"
     ]
    },
    {
     "data": {
      "application/vnd.jupyter.widget-view+json": {
       "model_id": "78d44605c8774bde82e312c6f4e8b782",
       "version_major": 2,
       "version_minor": 0
      },
      "text/plain": [
       "HBox(children=(IntProgress(value=0, max=1000), HTML(value='')))"
      ]
     },
     "metadata": {},
     "output_type": "display_data"
    },
    {
     "name": "stdout",
     "output_type": "stream",
     "text": [
      "\n"
     ]
    },
    {
     "data": {
      "application/vnd.jupyter.widget-view+json": {
       "model_id": "1a7714b20f3c4a618e864f02665d5f8b",
       "version_major": 2,
       "version_minor": 0
      },
      "text/plain": [
       "HBox(children=(IntProgress(value=0, max=1000), HTML(value='')))"
      ]
     },
     "metadata": {},
     "output_type": "display_data"
    },
    {
     "name": "stdout",
     "output_type": "stream",
     "text": [
      "\n"
     ]
    },
    {
     "data": {
      "application/vnd.jupyter.widget-view+json": {
       "model_id": "f12c4feec61249a29a3e64501fed224e",
       "version_major": 2,
       "version_minor": 0
      },
      "text/plain": [
       "HBox(children=(IntProgress(value=0, max=1000), HTML(value='')))"
      ]
     },
     "metadata": {},
     "output_type": "display_data"
    },
    {
     "name": "stdout",
     "output_type": "stream",
     "text": [
      "\n"
     ]
    },
    {
     "data": {
      "application/vnd.jupyter.widget-view+json": {
       "model_id": "35807056eceb4d59a05a8f2b75f5b9ef",
       "version_major": 2,
       "version_minor": 0
      },
      "text/plain": [
       "HBox(children=(IntProgress(value=0, max=1000), HTML(value='')))"
      ]
     },
     "metadata": {},
     "output_type": "display_data"
    },
    {
     "name": "stdout",
     "output_type": "stream",
     "text": [
      "\n"
     ]
    },
    {
     "data": {
      "application/vnd.jupyter.widget-view+json": {
       "model_id": "dae4a0b04d3048e0834ab7c164c7c1e9",
       "version_major": 2,
       "version_minor": 0
      },
      "text/plain": [
       "HBox(children=(IntProgress(value=0, max=1000), HTML(value='')))"
      ]
     },
     "metadata": {},
     "output_type": "display_data"
    },
    {
     "name": "stdout",
     "output_type": "stream",
     "text": [
      "\n"
     ]
    },
    {
     "data": {
      "application/vnd.jupyter.widget-view+json": {
       "model_id": "f1981bb288e4428d9f0a85a1a5bbdc88",
       "version_major": 2,
       "version_minor": 0
      },
      "text/plain": [
       "HBox(children=(IntProgress(value=0, max=1000), HTML(value='')))"
      ]
     },
     "metadata": {},
     "output_type": "display_data"
    },
    {
     "name": "stdout",
     "output_type": "stream",
     "text": [
      "\n",
      "\n"
     ]
    }
   ],
   "source": [
    "Temperatures = np.linspace(1.53, 3., 40)\n",
    "k_b = 1.3806e-23\n",
    "sample_size = 500\n",
    "size = 200\n",
    "equilibrium_steps = 500\n",
    "\n",
    "Energies = np.zeros(len(Temperatures))\n",
    "Magnetisaisions = np.zeros(len(Temperatures))\n",
    "SpecificHeat = np.zeros(len(Temperatures))\n",
    "Susceptibility = np.zeros(len(Temperatures))\n",
    "\n",
    "n1, n2  = 1.0 / (sample_size * size**2), 1.0 / (sample_size**2 * size**2) \n",
    "\n",
    "\n",
    "for idx, T in tqdm(enumerate(Temperatures), total=len(Temperatures)):\n",
    "    E1 = M1 = E2 = M2 = 0\n",
    "    \n",
    "    iT = 1 / T\n",
    "    iT2 = iT * iT\n",
    "    \n",
    "    \n",
    "    \n",
    "    for state in metropolis_mc(equilibrium_steps=equilibrium_steps,\\\n",
    "                               sample_size=sample_size, beta=iT, size=(size, size)):\n",
    "                  \n",
    "        Ene = calcEnergy(state)     # calculate the energy\n",
    "        Mag = calcMag(state)        # calculate the magnetisation\n",
    "\n",
    "        E1 = E1 + Ene\n",
    "        M1 = M1 + Mag\n",
    "        M2 = M2 + Mag*Mag \n",
    "        E2 = E2 + Ene*Ene\n",
    "\n",
    "    Energies[idx] = n1 * E1\n",
    "    Magnetisaisions[idx] = n1 * M1\n",
    "    SpecificHeat[idx] = (n1 * E2 - n2 * E1 * E1) * iT2\n",
    "    Susceptibility[idx] = (n1 * M2 - n2 * M1 * M1) * iT\n",
    "\n",
    "\n",
    "    \n"
   ]
  },
  {
   "cell_type": "code",
   "execution_count": 64,
   "metadata": {
    "ExecuteTime": {
     "end_time": "2020-01-21T14:47:51.667289Z",
     "start_time": "2020-01-21T14:47:51.609017Z"
    }
   },
   "outputs": [],
   "source": [
    "## change these parameters for a smaller (faster) simulation \n",
    "temperature_number      = 88         #  number of temperature poitemperature_numbers\n",
    "N       = 100         #  size of the lattice, N x N\n",
    "eqSteps = 10240       #  number of MC sweeps for equilibration\n",
    "mcSteps = 1024       #  number of MC sweeps for calculation\n",
    "\n",
    "T       = np.linspace(1.53, 3.28, temperature_number); \n",
    "E,M,C,X = np.zeros(temperature_number), np.zeros(temperature_number), np.zeros(temperature_number), np.zeros(temperature_number)\n",
    "n1, n2  = 1.0/(mcSteps*N*N), 1.0/(mcSteps*mcSteps*N*N) \n",
    "# divide by number of samples, and by system size to get itemperature_numberensive values"
   ]
  },
  {
   "cell_type": "code",
   "execution_count": 65,
   "metadata": {
    "ExecuteTime": {
     "end_time": "2020-01-21T15:03:11.870274Z",
     "start_time": "2020-01-21T14:47:52.797256Z"
    }
   },
   "outputs": [
    {
     "data": {
      "application/vnd.jupyter.widget-view+json": {
       "model_id": "c3ea219344c5473b92d5dd53a0f4385d",
       "version_major": 2,
       "version_minor": 0
      },
      "text/plain": [
       "HBox(children=(IntProgress(value=0, max=88), HTML(value='')))"
      ]
     },
     "metadata": {},
     "output_type": "display_data"
    },
    {
     "name": "stdout",
     "output_type": "stream",
     "text": [
      "\n"
     ]
    }
   ],
   "source": [
    "\n",
    "for idx in tqdm(range(temperature_number)):\n",
    "    E1 = M1 = E2 = M2 = 0\n",
    "    config = random_spin_field(N, N)\n",
    "    iT=1.0/T[idx]\n",
    "    iT2=iT*iT\n",
    "    \n",
    "    for i in range(eqSteps):         \n",
    "        mcmove(config, iT)           \n",
    "\n",
    "    for i in range(mcSteps):\n",
    "        mcmove(config, iT)           \n",
    "        Ene = calcEnergy(config)     \n",
    "        Mag = calcMag(config)        \n",
    "\n",
    "        E1 = E1 + Ene\n",
    "        M1 = M1 + Mag\n",
    "        M2 = M2 + Mag*Mag \n",
    "        E2 = E2 + Ene*Ene\n",
    "\n",
    "    E[idx] = n1*E1\n",
    "    M[idx] = n1*M1\n",
    "    C[idx] = (n1*E2 - n2*E1*E1)*iT2\n",
    "    X[idx] = (n1*M2 - n2*M1*M1)*iT"
   ]
  },
  {
   "cell_type": "code",
   "execution_count": 67,
   "metadata": {
    "ExecuteTime": {
     "end_time": "2020-01-21T16:08:33.376426Z",
     "start_time": "2020-01-21T16:08:30.882750Z"
    }
   },
   "outputs": [
    {
     "data": {
      "image/png": "[encoded data removed]",
      "text/plain": [
       "<Figure size 1296x720 with 4 Axes>"
      ]
     },
     "metadata": {
      "needs_background": "light"
     },
     "output_type": "display_data"
    }
   ],
   "source": [
    "f = plt.figure(figsize=(18, 10));\n",
    "\n",
    "sp =  f.add_subplot(2, 2, 1 );\n",
    "plt.scatter(T, E, s=50, marker='o', color='IndianRed')\n",
    "plt.xlabel(r\"Температура ($T$)\", fontsize=20);\n",
    "plt.ylabel(\"Энергия\", fontsize=20);         plt.axis('tight');\n",
    "\n",
    "sp =  f.add_subplot(2, 2, 2 );\n",
    "plt.scatter(T, abs(M), s=50, marker='o', color='RoyalBlue')\n",
    "plt.xlabel(r\"Температура ($T$)\", fontsize=20); \n",
    "plt.ylabel(\"Намагниченность\", fontsize=20);   plt.axis('tight');\n",
    "\n",
    "sp =  f.add_subplot(2, 2, 3 );\n",
    "plt.scatter(T, C, s=50, marker='o', color='IndianRed')\n",
    "plt.xlabel(r\"Температура ($T$)\", fontsize=20);  \n",
    "plt.ylabel(\"Теплоемкость\", fontsize=20);   plt.axis('tight');   \n",
    "\n",
    "sp =  f.add_subplot(2, 2, 4 );\n",
    "plt.scatter(T, X, s=50, marker='o', color='RoyalBlue')\n",
    "plt.xlabel(r\"Температура ($T$)\", fontsize=20); \n",
    "plt.ylabel(\"Магнитная восприимчивость\", fontsize=20);   plt.axis('tight');\n",
    "plt.suptitle('Характеристики в зависимости от температуры', fontsize=22)\n",
    "plt.show()"
   ]
  },
  {
   "cell_type": "code",
   "execution_count": null,
   "metadata": {},
   "outputs": [],
   "source": []
  }
 ],
 "metadata": {
  "hide_input": false,
  "kernelspec": {
   "display_name": "Python 3",
   "language": "python",
   "name": "python3"
  },
  "language_info": {
   "codemirror_mode": {
    "name": "ipython",
    "version": 3
   },
   "file_extension": ".py",
   "mimetype": "text/x-python",
   "name": "python",
   "nbconvert_exporter": "python",
   "pygments_lexer": "ipython3",
   "version": "3.7.3"
  },
  "latex_envs": {
   "LaTeX_envs_menu_present": true,
   "autoclose": false,
   "autocomplete": true,
   "bibliofile": "biblio.bib",
   "cite_by": "apalike",
   "current_citInitial": 1,
   "eqLabelWithNumbers": true,
   "eqNumInitial": 1,
   "hotkeys": {
    "equation": "Ctrl-E",
    "itemize": "Ctrl-I"
   },
   "labels_anchors": false,
   "latex_user_defs": false,
   "report_style_numbering": false,
   "user_envs_cfg": false
  },
  "varInspector": {
   "cols": {
    "lenName": 16,
    "lenType": 16,
    "lenVar": 40
   },
   "kernels_config": {
    "python": {
     "delete_cmd_postfix": "",
     "delete_cmd_prefix": "del ",
     "library": "var_list.py",
     "varRefreshCmd": "print(var_dic_list())"
    },
    "r": {
     "delete_cmd_postfix": ") ",
     "delete_cmd_prefix": "rm(",
     "library": "var_list.r",
     "varRefreshCmd": "cat(var_dic_list()) "
    }
   },
   "types_to_exclude": [
    "module",
    "function",
    "builtin_function_or_method",
    "instance",
    "_Feature"
   ],
   "window_display": false
  }
 },
 "nbformat": 4,
 "nbformat_minor": 2
}
